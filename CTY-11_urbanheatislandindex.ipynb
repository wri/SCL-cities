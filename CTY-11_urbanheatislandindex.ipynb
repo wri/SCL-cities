{
 "cells": [
  {
   "cell_type": "markdown",
   "id": "2f183f78",
   "metadata": {},
   "source": [
    "# Setup"
   ]
  },
  {
   "cell_type": "code",
   "execution_count": null,
   "id": "47a009be",
   "metadata": {},
   "outputs": [],
   "source": [
    "from collections import defaultdict\n",
    "import json\n",
    "import ee\n",
    "import pandas as pd\n",
    "import geopandas as gpd\n",
    "import geemap"
   ]
  },
  {
   "cell_type": "code",
   "execution_count": null,
   "id": "a7709614",
   "metadata": {},
   "outputs": [],
   "source": [
    "ee.Authenticate()\n",
    "ee.Initialize()"
   ]
  },
  {
   "cell_type": "markdown",
   "id": "dc9bb7c4",
   "metadata": {},
   "source": [
    "# Constants"
   ]
  },
  {
   "cell_type": "code",
   "execution_count": null,
   "id": "be12274f",
   "metadata": {},
   "outputs": [],
   "source": [
    "with open('popcodes.json', 'r') as popfile:\n",
    "    popcodes2 = json.loads(popfile.read())\n",
    "\n",
    "scale = 300\n",
    "\n",
    "YEARS = [2005, 2010, 2015, 2020]"
   ]
  },
  {
   "cell_type": "markdown",
   "id": "6eebe06d",
   "metadata": {},
   "source": [
    "# Data"
   ]
  },
  {
   "cell_type": "code",
   "execution_count": null,
   "id": "6b29e1cb",
   "metadata": {},
   "outputs": [],
   "source": [
    "Summer_UHI_yearly_1km=ee.Image('projects/ee-yceo/assets/Summer_UHI_yearly_300_v5')\n",
    "Summer_Night2020_1km = Summer_UHI_yearly_1km.select(['summernighttime_UHI_2020'],['Summernighttime'])\n",
    "Summer_Day2020_1km = Summer_UHI_yearly_1km.select(['summerdaytime_UHI_2020'],['Summerdaytime'])\n",
    "\n",
    "urbext_2020 = ee.FeatureCollection('projects/wri-datalab/SCL-Cities/urbanextents__bycountry_2020')\n",
    "urbext_data_2020 = geemap.ee_to_df(urbext_2020)"
   ]
  },
  {
   "cell_type": "markdown",
   "id": "8625ddee",
   "metadata": {},
   "source": [
    "# Functions"
   ]
  },
  {
   "cell_type": "code",
   "execution_count": null,
   "id": "b6418226",
   "metadata": {},
   "outputs": [],
   "source": [
    "# NONE"
   ]
  },
  {
   "cell_type": "markdown",
   "id": "c53f139f",
   "metadata": {},
   "source": [
    "# Caluculations, Sum & Format"
   ]
  },
  {
   "cell_type": "code",
   "execution_count": null,
   "id": "4d34e068",
   "metadata": {},
   "outputs": [],
   "source": [
    "bycountry = {}\n",
    "for year in YEARS:\n",
    "    print('\\n\\n{0}\\n'.format(year))\n",
    "    \n",
    "    ghs_pop = ee.ImageCollection(\"JRC/GHSL/P2023A/GHS_POP\").filter(ee.Filter.calendarRange(year, year, 'year'))\n",
    "    \n",
    "    Summer_UHI_yearly_1km=ee.Image('projects/ee-yceo/assets/Summer_UHI_yearly_300_v5')\n",
    "    Summer_Night_1km = Summer_UHI_yearly_1km.select(['summernighttime_UHI_{0}'.format(year)],['Summernighttime'])\n",
    "    Summer_Day_1km = Summer_UHI_yearly_1km.select(['summerdaytime_UHI_{0}'.format(year)],['Summerdaytime'])\n",
    "    \n",
    "    urbext = ee.FeatureCollection('projects/wri-datalab/SCL-Cities/urbanextents__bycountry_{0}'.format(year))\n",
    "    urbext_data = geemap.ee_to_df(urbext)\n",
    "    nuhi_res = defaultdict(list)\n",
    "    duhi_res = defaultdict(list)\n",
    "    pop_res = defaultdict(list)\n",
    "    nuhipop_tot = []\n",
    "    duhipop_tot = []\n",
    "    pop_tot = []\n",
    "    for i in range(len(urbext_data)):\n",
    "        ua = urbext_data.iloc[i]\n",
    "        if ua['country'] in popcodes2:\n",
    "            ua_f = urbext.filter(ee.Filter.eq('city_ids', str(ua['city_ids'])))\n",
    "            geom = ua_f.geometry()\n",
    "\n",
    "            localpop_img = ghs_pop.select('population_count').first()\n",
    "            localpop = localpop_img.reduceRegion(ee.Reducer.sum(), geom, scale, maxPixels=1e12).getInfo()['population_count']\n",
    "\n",
    "            localpop_nuhi = localpop_img.multiply(Summer_Night_1km).reduceRegion(ee.Reducer.sum(), geom, scale, maxPixels=1e12).getInfo()['population_count']\n",
    "            localpop_duhi = localpop_img.multiply(Summer_Day_1km).reduceRegion(ee.Reducer.sum(), geom, scale, maxPixels=1e12).getInfo()['population_count']\n",
    "\n",
    "            nuhi_res[ua['country']].append(localpop_nuhi)\n",
    "            duhi_res[ua['country']].append(localpop_duhi)\n",
    "            pop_res[ua['country']].append(localpop)\n",
    "\n",
    "            nuhipop_tot.append(localpop_nuhi)\n",
    "            duhipop_tot.append(localpop_duhi)\n",
    "            pop_tot.append(localpop)\n",
    "\n",
    "            print(i, end=' ')\n",
    "    if not 'global' in list(bycountry.keys()):\n",
    "        bycountry['global'] = {}\n",
    "    bycountry['global'] = bycountry['global'] | {\n",
    "        'pop-averaged_summer_nighttime_uhi_{0}'.format(year): sum(nuhipop_tot) / sum(pop_tot),\n",
    "        'pop-averaged_summer_daytime_uhi_{0}'.format(year): sum(duhipop_tot) / sum(pop_tot),\n",
    "    }\n",
    "    country_list = list(nuhi_res.keys())\n",
    "    country_list.sort()\n",
    "    for country in country_list:\n",
    "        if not country in list(bycountry.keys()):\n",
    "            bycountry[country] = {}\n",
    "        if sum(nuhi_res[country]):\n",
    "            bycountry[country] = bycountry[country] | {\n",
    "                'pop-averaged_summer_nighttime_uhi_{0}'.format(year): sum(nuhi_res[country]) / sum(pop_res[country]),\n",
    "                'pop-averaged_summer_daytime_uhi_{0}'.format(year): sum(duhi_res[country]) / sum(pop_res[country]),\n",
    "            }\n",
    "        else:\n",
    "            bycountry[country] = bycountry[country] | {\n",
    "                'pop-averaged_summer_nighttime_uhi_{0}'.format(year): -9999,\n",
    "                'pop-averaged_summer_daytime_uhi_{0}'.format(year): -9999,\n",
    "            }\n"
   ]
  },
  {
   "cell_type": "markdown",
   "id": "6e226951",
   "metadata": {},
   "source": [
    "# Output"
   ]
  },
  {
   "cell_type": "code",
   "execution_count": null,
   "id": "c7a2d840",
   "metadata": {},
   "outputs": [],
   "source": [
    "res_pd = pd.DataFrame.from_dict(bycountry, orient='index')\n",
    "res_pd.to_csv('CTY-11_uhi_v3.csv')"
   ]
  },
  {
   "cell_type": "code",
   "execution_count": null,
   "id": "79ecd713",
   "metadata": {},
   "outputs": [],
   "source": [
    "out_dicts = []\n",
    "\n",
    "out_dicts.append(\n",
    "        {\n",
    "            'country': 'global',\n",
    "            'pop-averaged_summer_nighttime_uhi': sum(nuhipop_tot) / sum(pop_tot),\n",
    "            'pop-averaged_summer_daytime_uhi': sum(duhipop_tot) / sum(pop_tot),\n",
    "        }\n",
    "    )\n",
    "\n",
    "country_list = list(nuhi_res.keys())\n",
    "country_list.sort()\n",
    "for country in country_list:\n",
    "    if sum(nuhi_res[country]):\n",
    "        out_dicts.append(\n",
    "            {\n",
    "                'country': country,\n",
    "                'pop-averaged_summer_nighttime_uhi': sum(nuhi_res[country]) / sum(pop_res[country]),\n",
    "                'pop-averaged_summer_daytime_uhi': sum(duhi_res[country]) / sum(pop_res[country]),\n",
    "            }\n",
    "        )\n",
    "    else:\n",
    "        out_dicts.append(\n",
    "            {\n",
    "                'country': country,\n",
    "                'pop-averaged_summer_nighttime_uhi': -9999,\n",
    "                'pop-averaged_summer_daytime_uhi': -9999,\n",
    "            }\n",
    "        )\n",
    "res_pd = pd.DataFrame(out_dicts)\n",
    "res_pd.to_csv('CTY-11_uhi.csv')"
   ]
  },
  {
   "cell_type": "code",
   "execution_count": null,
   "id": "de9aa0be",
   "metadata": {},
   "outputs": [],
   "source": []
  }
 ],
 "metadata": {
  "kernelspec": {
   "display_name": "Python 3 (ipykernel)",
   "language": "python",
   "name": "python3"
  },
  "language_info": {
   "codemirror_mode": {
    "name": "ipython",
    "version": 3
   },
   "file_extension": ".py",
   "mimetype": "text/x-python",
   "name": "python",
   "nbconvert_exporter": "python",
   "pygments_lexer": "ipython3",
   "version": "3.12.3"
  }
 },
 "nbformat": 4,
 "nbformat_minor": 5
}

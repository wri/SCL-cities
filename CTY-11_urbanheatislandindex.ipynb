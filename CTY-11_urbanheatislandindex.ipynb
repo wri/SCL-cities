{
 "cells": [
  {
   "cell_type": "code",
   "execution_count": 1,
   "id": "47a009be",
   "metadata": {},
   "outputs": [],
   "source": [
    "from collections import defaultdict\n",
    "import json\n",
    "import ee\n",
    "import pandas as pd\n",
    "import geopandas as gpd\n",
    "import geemap"
   ]
  },
  {
   "cell_type": "code",
   "execution_count": 2,
   "id": "a7709614",
   "metadata": {},
   "outputs": [
    {
     "data": {
      "text/html": [
       "<p>To authorize access needed by Earth Engine, open the following\n",
       "        URL in a web browser and follow the instructions:</p>\n",
       "        <p><a href=https://code.earthengine.google.com/client-auth?scopes=https%3A//www.googleapis.com/auth/earthengine%20https%3A//www.googleapis.com/auth/devstorage.full_control&request_id=Y7LJipa-r060x3jbFAbXF47O31UAdzhgNQlcGL6CJN0&tc=gA5ZTYQDBvSogaG85OnLYrv7UwcwYsukiEryoo0TF_E&cc=w9wW4tCS07OECNVYroBflluhjmCkm6YOlbC0tiqlLsc>https://code.earthengine.google.com/client-auth?scopes=https%3A//www.googleapis.com/auth/earthengine%20https%3A//www.googleapis.com/auth/devstorage.full_control&request_id=Y7LJipa-r060x3jbFAbXF47O31UAdzhgNQlcGL6CJN0&tc=gA5ZTYQDBvSogaG85OnLYrv7UwcwYsukiEryoo0TF_E&cc=w9wW4tCS07OECNVYroBflluhjmCkm6YOlbC0tiqlLsc</a></p>\n",
       "        <p>The authorization workflow will generate a code, which you\n",
       "        should paste in the box below</p>\n",
       "        "
      ],
      "text/plain": [
       "<IPython.core.display.HTML object>"
      ]
     },
     "metadata": {},
     "output_type": "display_data"
    },
    {
     "name": "stdout",
     "output_type": "stream",
     "text": [
      "Enter verification code: 4/1Adeu5BVKa8nAqL22vlWDVUa25J49KYT2NLSg4e2RPhjm5tHjYxYs0byEQVo\n",
      "\n",
      "Successfully saved authorization token.\n"
     ]
    }
   ],
   "source": [
    "ee.Authenticate()"
   ]
  },
  {
   "cell_type": "code",
   "execution_count": 3,
   "id": "232abdc6",
   "metadata": {},
   "outputs": [],
   "source": [
    "ee.Initialize()"
   ]
  },
  {
   "cell_type": "code",
   "execution_count": 17,
   "id": "6b29e1cb",
   "metadata": {},
   "outputs": [],
   "source": [
    "Summer_UHI_yearly_1km=ee.Image('projects/ee-yceo/assets/Summer_UHI_yearly_300_v5')\n",
    "Summer_Night2020_1km = Summer_UHI_yearly_1km.select(['summernighttime_UHI_2020'],['Summernighttime'])\n",
    "Summer_Day2020_1km = Summer_UHI_yearly_1km.select(['summerdaytime_UHI_2020'],['Summerdaytime'])"
   ]
  },
  {
   "cell_type": "code",
   "execution_count": 18,
   "id": "62dc9e10",
   "metadata": {},
   "outputs": [],
   "source": [
    "urbext_2020 = ee.FeatureCollection('projects/wri-datalab/SCL-Cities/urbanextents__bycountry_2020')\n",
    "urbext_data_2020 = geemap.ee_to_pandas(urbext_2020)"
   ]
  },
  {
   "cell_type": "code",
   "execution_count": 20,
   "id": "6e504058",
   "metadata": {},
   "outputs": [],
   "source": [
    "scale = 300"
   ]
  },
  {
   "cell_type": "code",
   "execution_count": null,
   "id": "585ee375",
   "metadata": {},
   "outputs": [],
   "source": []
  },
  {
   "cell_type": "code",
   "execution_count": null,
   "id": "4d34e068",
   "metadata": {},
   "outputs": [
    {
     "name": "stdout",
     "output_type": "stream",
     "text": [
      "0 1 2 3 4 5 6 7 8 9 10 11 12 13 14 15 16 17 18 19 20 21 22 23 24 25 26 27 28 29 30 31 32 33 34 35 36 37 38 39 40 41 42 43 44 "
     ]
    }
   ],
   "source": [
    "nuhi_res = defaultdict(list)\n",
    "duhi_res = defaultdict(list)\n",
    "count_res = defaultdict(list)\n",
    "for i in range(len(urbext_data_2020)):\n",
    "    ua = urbext_data_2020.iloc[i]\n",
    "    ua_f = urbext_2020.filter(ee.Filter.eq('city_ids', str(ua['city_ids'])))\n",
    "    geom = ua_f.geometry()\n",
    "    nuhi_local_img = Summer_Night2020_1km.clip(geom)\n",
    "    duhi_local_img = Summer_Day2020_1km.clip(geom)\n",
    "    count_img = ee.Image(1).multiply(duhi_local_img.gt(-99999)).clip(geom)\n",
    "\n",
    "    local_nuhi = nuhi_local_img.reduceRegion(ee.Reducer.sum(), geom, scale, maxPixels=1e12).get('Summernighttime').getInfo()\n",
    "    local_duhi = duhi_local_img.reduceRegion(ee.Reducer.sum(), geom, scale, maxPixels=1e12).get('Summerdaytime').getInfo()\n",
    "    local_count = count_img.reduceRegion(ee.Reducer.sum(), geom, scale, maxPixels=1e12).get('constant').getInfo()\n",
    "                \n",
    "    nuhi_res[ua['country']].append(local_nuhi)\n",
    "    duhi_res[ua['country']].append(local_duhi)\n",
    "    count_res[ua['country']].append(local_count)\n",
    "    \n",
    "    print(i, end=' ')\n",
    "    "
   ]
  },
  {
   "cell_type": "code",
   "execution_count": null,
   "id": "79ecd713",
   "metadata": {},
   "outputs": [],
   "source": [
    "out_dicts = []\n",
    "country_list = list(uhi_res.keys())\n",
    "country_list.sort()\n",
    "for country in country_list:\n",
    "    out_dicts.append(\n",
    "        {\n",
    "            'country': country,\n",
    "            'mean_summer_nighttime_uhi': sum(nuhi_res[country]) / sum(count_res[country]),\n",
    "            'mean_summer_daytime_uhi': sum(duhi_res[country]) / sum(count_res[country]),\n",
    "        }\n",
    "    )\n",
    "res_pd = pd.DataFrame(out_dicts)\n",
    "res_pd.to_csv('CTY-11_uhi.csv')"
   ]
  },
  {
   "cell_type": "code",
   "execution_count": null,
   "id": "64b1c8dd",
   "metadata": {},
   "outputs": [],
   "source": []
  },
  {
   "cell_type": "code",
   "execution_count": null,
   "id": "de9aa0be",
   "metadata": {},
   "outputs": [],
   "source": []
  }
 ],
 "metadata": {
  "kernelspec": {
   "display_name": "Python 3 (ipykernel)",
   "language": "python",
   "name": "python3"
  },
  "language_info": {
   "codemirror_mode": {
    "name": "ipython",
    "version": 3
   },
   "file_extension": ".py",
   "mimetype": "text/x-python",
   "name": "python",
   "nbconvert_exporter": "python",
   "pygments_lexer": "ipython3",
   "version": "3.9.10"
  }
 },
 "nbformat": 4,
 "nbformat_minor": 5
}

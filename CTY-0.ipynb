{
 "cells": [
  {
   "cell_type": "markdown",
   "metadata": {},
   "source": [
    "# Setup"
   ]
  },
  {
   "cell_type": "code",
   "execution_count": null,
   "metadata": {},
   "outputs": [],
   "source": [
    "import ee\n",
    "import json\n",
    "\n",
    "ee.Authenticate()\n",
    "ee.Initialize()"
   ]
  },
  {
   "cell_type": "markdown",
   "metadata": {},
   "source": [
    "# popcodes"
   ]
  },
  {
   "cell_type": "code",
   "execution_count": null,
   "metadata": {},
   "outputs": [],
   "source": [
    "worldpop_ic = ee.ImageCollection(\"WorldPop/GP/100m/pop\").filter(ee.Filter.eq('year', 2020))\n",
    "popcodes2 = worldpop_ic.filter(ee.Filter.eq('year', 2020)).aggregate_array('country').getInfo()\n",
    "\n",
    "# write to json file\n",
    "with open('popcodes.json', 'w') as f:\n",
    "    json.dump(popcodes2, f)\n",
    "\n",
    "print(popcodes2)"
   ]
  }
 ],
 "metadata": {
  "kernelspec": {
   "display_name": "scl-cities",
   "language": "python",
   "name": "python3"
  },
  "language_info": {
   "codemirror_mode": {
    "name": "ipython",
    "version": 3
   },
   "file_extension": ".py",
   "mimetype": "text/x-python",
   "name": "python",
   "nbconvert_exporter": "python",
   "pygments_lexer": "ipython3",
   "version": "3.12.3"
  }
 },
 "nbformat": 4,
 "nbformat_minor": 2
}

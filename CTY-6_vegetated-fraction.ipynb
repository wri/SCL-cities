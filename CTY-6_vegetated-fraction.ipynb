{
 "cells": [
  {
   "cell_type": "code",
   "execution_count": 1,
   "id": "47a009be",
   "metadata": {},
   "outputs": [
    {
     "name": "stderr",
     "output_type": "stream",
     "text": [
      "C:\\Users\\theodore.wong\\AppData\\Local\\Programs\\Python\\Python39\\lib\\site-packages\\geopandas\\_compat.py:124: UserWarning: The Shapely GEOS version (3.11.1-CAPI-1.17.1) is incompatible with the GEOS version PyGEOS was compiled with (3.10.4-CAPI-1.16.2). Conversions between both will be slow.\n",
      "  warnings.warn(\n",
      "C:\\Users\\theodore.wong\\AppData\\Local\\Temp\\ipykernel_30372\\3304458549.py:5: DeprecationWarning: Shapely 2.0 is installed, but because PyGEOS is also installed, GeoPandas still uses PyGEOS by default. However, starting with version 0.14, the default will switch to Shapely. To force to use Shapely 2.0 now, you can either uninstall PyGEOS or set the environment variable USE_PYGEOS=0. You can do this before starting the Python process, or in your code before importing geopandas:\n",
      "\n",
      "import os\n",
      "os.environ['USE_PYGEOS'] = '0'\n",
      "import geopandas\n",
      "\n",
      "In the next release, GeoPandas will switch to using Shapely by default, even if PyGEOS is installed. If you only have PyGEOS installed to get speed-ups, this switch should be smooth. However, if you are using PyGEOS directly (calling PyGEOS functions on geometries from GeoPandas), this will then stop working and you are encouraged to migrate from PyGEOS to Shapely 2.0 (https://shapely.readthedocs.io/en/latest/migration_pygeos.html).\n",
      "  import geopandas as gpd\n"
     ]
    }
   ],
   "source": [
    "from collections import defaultdict\n",
    "import json\n",
    "import ee\n",
    "import pandas as pd\n",
    "import geopandas as gpd\n",
    "import geemap"
   ]
  },
  {
   "cell_type": "code",
   "execution_count": 2,
   "id": "a7709614",
   "metadata": {},
   "outputs": [
    {
     "data": {
      "text/html": [
       "<p>To authorize access needed by Earth Engine, open the following\n",
       "        URL in a web browser and follow the instructions:</p>\n",
       "        <p><a href=https://code.earthengine.google.com/client-auth?scopes=https%3A//www.googleapis.com/auth/earthengine%20https%3A//www.googleapis.com/auth/devstorage.full_control&request_id=Y7LJipa-r060x3jbFAbXF47O31UAdzhgNQlcGL6CJN0&tc=gA5ZTYQDBvSogaG85OnLYrv7UwcwYsukiEryoo0TF_E&cc=w9wW4tCS07OECNVYroBflluhjmCkm6YOlbC0tiqlLsc>https://code.earthengine.google.com/client-auth?scopes=https%3A//www.googleapis.com/auth/earthengine%20https%3A//www.googleapis.com/auth/devstorage.full_control&request_id=Y7LJipa-r060x3jbFAbXF47O31UAdzhgNQlcGL6CJN0&tc=gA5ZTYQDBvSogaG85OnLYrv7UwcwYsukiEryoo0TF_E&cc=w9wW4tCS07OECNVYroBflluhjmCkm6YOlbC0tiqlLsc</a></p>\n",
       "        <p>The authorization workflow will generate a code, which you\n",
       "        should paste in the box below</p>\n",
       "        "
      ],
      "text/plain": [
       "<IPython.core.display.HTML object>"
      ]
     },
     "metadata": {},
     "output_type": "display_data"
    },
    {
     "name": "stdout",
     "output_type": "stream",
     "text": [
      "Enter verification code: 4/1Adeu5BVKa8nAqL22vlWDVUa25J49KYT2NLSg4e2RPhjm5tHjYxYs0byEQVo\n",
      "\n",
      "Successfully saved authorization token.\n"
     ]
    }
   ],
   "source": [
    "ee.Authenticate()"
   ]
  },
  {
   "cell_type": "code",
   "execution_count": 2,
   "id": "232abdc6",
   "metadata": {},
   "outputs": [],
   "source": [
    "ee.Initialize()"
   ]
  },
  {
   "cell_type": "code",
   "execution_count": 5,
   "id": "6b29e1cb",
   "metadata": {},
   "outputs": [],
   "source": [
    "ndvi = {\n",
    "    year:  ee.ImageCollection('MODIS/061/MOD13Q1').filter(ee.Filter.date('{0}-01-01'.format(year), '{0}-01-01'.format(year+1))) for year in (2015, 2020)\n",
    "}"
   ]
  },
  {
   "cell_type": "code",
   "execution_count": 6,
   "id": "62dc9e10",
   "metadata": {},
   "outputs": [],
   "source": [
    "urbext = {}\n",
    "urbext_data = {}\n",
    "urbext[2015] = ee.FeatureCollection('projects/wri-datalab/SCL-Cities/urbanextents__bycountry_2015')\n",
    "urbext_data[2015] = geemap.ee_to_pandas(urbext[2015])\n",
    "\n",
    "urbext[2020] = ee.FeatureCollection('projects/wri-datalab/SCL-Cities/urbanextents__bycountry_2020')\n",
    "urbext_data[2020] = geemap.ee_to_pandas(urbext[2020])"
   ]
  },
  {
   "cell_type": "code",
   "execution_count": 13,
   "id": "6551c3ff",
   "metadata": {},
   "outputs": [],
   "source": [
    "scale = 10\n",
    "ndvi_threshold = 0.4"
   ]
  },
  {
   "cell_type": "code",
   "execution_count": null,
   "id": "4d34e068",
   "metadata": {},
   "outputs": [
    {
     "name": "stdout",
     "output_type": "stream",
     "text": [
      "0 1 2 3 4 5 6 7 8 9 10 11 12 13 14 15 16 17 18 19 20 21 22 23 24 25 26 27 28 29 30 31 32 33 34 35 36 37 38 39 40 41 42 43 44 45 46 47 48 49 50 51 52 53 54 55 56 57 58 59 60 61 62 63 64 65 66 67 68 69 70 71 72 73 74 75 76 77 78 79 80 81 82 83 84 85 86 87 88 89 90 91 92 93 94 95 96 97 98 99 100 101 102 103 104 105 106 107 108 109 110 111 112 113 114 115 116 117 118 119 120 121 122 123 124 125 126 127 128 129 130 131 132 133 134 135 136 137 138 139 140 141 142 143 144 145 146 147 148 149 150 151 152 153 154 155 156 157 158 159 160 161 162 163 164 165 166 167 168 169 170 171 172 173 174 175 176 177 178 179 180 181 182 183 184 185 186 187 188 189 190 191 192 193 194 195 196 197 198 199 200 201 202 203 204 205 206 207 208 209 210 211 212 213 214 215 216 217 218 219 220 221 222 223 224 225 226 227 228 229 230 231 232 233 234 235 236 237 238 239 240 241 242 243 244 245 246 247 248 249 250 251 252 253 254 255 256 257 258 259 260 261 262 263 264 265 266 267 268 269 270 271 272 273 274 275 276 277 278 279 280 281 282 283 284 285 286 287 288 289 290 291 292 293 294 295 296 297 298 299 300 301 302 303 304 305 306 307 308 309 310 311 312 313 314 315 316 317 318 319 320 321 322 323 324 325 326 327 328 329 330 331 332 333 334 335 336 337 338 339 340 341 342 343 344 345 346 347 348 349 350 351 352 353 354 355 356 357 358 359 360 361 362 363 364 365 366 367 368 369 370 371 372 373 374 375 376 377 378 379 380 381 382 383 384 385 386 387 388 389 390 391 392 393 394 395 396 397 398 399 400 401 402 403 404 405 406 407 408 409 410 411 412 413 414 415 416 417 418 419 420 421 422 423 424 425 426 427 428 429 430 431 432 433 434 435 436 437 438 439 440 441 442 443 444 445 446 447 448 449 450 451 452 453 454 455 456 457 458 459 460 461 462 463 464 465 466 467 468 469 470 471 472 473 474 475 476 477 478 479 480 481 482 483 484 485 486 487 488 489 490 491 492 493 494 495 496 497 498 499 500 501 502 503 504 505 506 507 508 509 510 511 512 513 514 515 516 517 518 519 520 521 522 523 524 525 526 527 528 529 530 531 532 533 534 535 536 537 538 539 540 541 542 543 544 545 546 547 548 549 550 551 552 553 554 555 556 557 558 559 560 561 562 563 564 565 566 567 568 569 570 571 572 573 574 575 576 577 578 579 580 581 582 583 584 585 586 587 588 589 590 591 592 593 594 595 596 597 598 599 600 601 602 603 604 605 606 607 608 609 610 611 612 613 614 615 616 617 618 619 620 621 622 623 624 625 626 627 628 629 630 631 632 633 634 635 636 637 638 639 640 641 642 643 644 645 646 647 648 649 650 651 652 653 654 655 656 657 658 659 660 661 662 663 664 665 666 667 668 669 670 671 672 673 674 675 676 677 678 679 680 681 682 683 684 685 686 687 688 689 690 691 692 693 694 695 696 697 698 699 700 701 702 703 704 705 706 707 708 709 710 711 712 713 714 715 716 717 718 719 720 721 722 723 724 725 726 727 728 729 730 731 732 733 734 735 736 737 738 739 740 741 742 743 744 745 746 747 748 749 750 751 752 753 754 755 756 757 758 759 760 761 762 763 764 765 766 767 768 769 770 771 772 773 774 775 776 777 778 779 780 781 782 783 784 785 786 787 788 789 790 791 792 793 794 795 796 797 798 799 800 801 802 803 804 805 806 807 808 809 810 811 812 813 814 815 816 817 818 819 820 821 822 823 824 825 826 827 828 829 830 831 832 833 834 835 836 837 838 839 840 841 842 843 844 845 846 847 848 849 850 851 852 853 854 855 856 857 858 859 860 861 862 863 864 865 866 867 868 869 870 871 872 873 874 875 876 877 878 879 880 881 882 883 884 885 886 887 888 889 890 891 892 893 "
     ]
    }
   ],
   "source": [
    "vegarea_res = defaultdict(list)\n",
    "totalarea_res = defaultdict(list)\n",
    "\n",
    "veg_total = []\n",
    "tot_total =[]\n",
    "\n",
    "year = 2020\n",
    "for i in range(len(urbext_data[year])):\n",
    "    ua = urbext_data[year].iloc[i]\n",
    "    ua_f = urbext[year].filter(ee.Filter.eq('city_ids', str(ua['city_ids'])))\n",
    "    geom = ua_f.geometry()\n",
    "    max_ndvi_local_img = ndvi[year].max().clip(geom)\n",
    "    vegetated_local_img = max_ndvi_local_img.select('NDVI').gte(ndvi_threshold)   # https://isprs-archives.copernicus.org/articles/XLII-4-W16/237/2019/isprs-archives-XLII-4-W16-237-2019.pdf\n",
    "    vegetatedarea_img = ee.Image.pixelArea().multiply(vegetated_local_img.select('NDVI'))\n",
    "    totalarea_img = ee.Image.pixelArea().clip(geom)\n",
    "\n",
    "    local_vegarea = vegetatedarea_img.reduceRegion(ee.Reducer.sum(), geom, scale, maxPixels=1e12).get('area').getInfo()\n",
    "    local_totalarea = totalarea_img.reduceRegion(ee.Reducer.sum(), geom, scale, maxPixels=1e12).get('area').getInfo()\n",
    "\n",
    "    vegarea_res[ua['country']].append(local_vegarea)\n",
    "    totalarea_res[ua['country']].append(local_totalarea)\n",
    "    veg_total.append(local_vegarea)\n",
    "    tot_total.append(local_totalarea)\n",
    "\n",
    "    print(i, end=' ')\n",
    "    "
   ]
  },
  {
   "cell_type": "code",
   "execution_count": null,
   "id": "79ecd713",
   "metadata": {},
   "outputs": [],
   "source": [
    "out_dicts = []\n",
    "\n",
    "out_dicts.append(\n",
    "        {\n",
    "            'country': 'global',\n",
    "            'urban_vegetated_fraction': sum(veg_total) / sum(tot_total),\n",
    "        }\n",
    "    )\n",
    "\n",
    "country_list = list(vegarea_res.keys())\n",
    "country_list.sort()\n",
    "for country in country_list:\n",
    "    out_dicts.append(\n",
    "        {\n",
    "            'country': country,\n",
    "            'urban_vegetated_fraction': sum(vegarea_res[country]) / sum(totalarea_res[country]),\n",
    "        }\n",
    "    )\n",
    "res_pd = pd.DataFrame(out_dicts)\n",
    "res_pd.to_csv('CTY-6_vegfraction.csv')"
   ]
  },
  {
   "cell_type": "code",
   "execution_count": null,
   "id": "c23fece7",
   "metadata": {},
   "outputs": [],
   "source": []
  }
 ],
 "metadata": {
  "kernelspec": {
   "display_name": "Python 3 (ipykernel)",
   "language": "python",
   "name": "python3"
  },
  "language_info": {
   "codemirror_mode": {
    "name": "ipython",
    "version": 3
   },
   "file_extension": ".py",
   "mimetype": "text/x-python",
   "name": "python",
   "nbconvert_exporter": "python",
   "pygments_lexer": "ipython3",
   "version": "3.9.10"
  }
 },
 "nbformat": 4,
 "nbformat_minor": 5
}

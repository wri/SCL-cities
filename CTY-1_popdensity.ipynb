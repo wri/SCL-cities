{
 "cells": [
  {
   "cell_type": "code",
   "execution_count": null,
   "id": "47a009be",
   "metadata": {},
   "outputs": [],
   "source": [
    "from collections import defaultdict\n",
    "import json\n",
    "import ee\n",
    "import pandas as pd\n",
    "import geopandas as gpd\n",
    "import geemap"
   ]
  },
  {
   "cell_type": "code",
   "execution_count": null,
   "id": "a7709614",
   "metadata": {},
   "outputs": [],
   "source": [
    "ee.Authenticate()"
   ]
  },
  {
   "cell_type": "code",
   "execution_count": 5,
   "id": "232abdc6",
   "metadata": {},
   "outputs": [],
   "source": [
    "ee.Initialize()"
   ]
  },
  {
   "cell_type": "code",
   "execution_count": null,
   "id": "d9d035c5",
   "metadata": {},
   "outputs": [],
   "source": [
    "with open('popcodes.json', 'r') as popfile:\n",
    "    popcodes2 = json.loads(popfile.read())"
   ]
  },
  {
   "cell_type": "code",
   "execution_count": null,
   "id": "589a8d63",
   "metadata": {},
   "outputs": [],
   "source": [
    "ghspop_ic = ee.ImageCollection(\"JRC/GHSL/P2023A/GHS_POP\")"
   ]
  },
  {
   "cell_type": "code",
   "execution_count": null,
   "id": "ce4ad293",
   "metadata": {},
   "outputs": [],
   "source": [
    "scale = 100\n",
    "\n",
    "def doOneYear(pop_ic, year):\n",
    "    print('\\n\\n{0}\\n'.format(year))\n",
    "    urbext = ee.FeatureCollection('projects/wri-datalab/SCL-Cities/urbanextents__bycountry_{0}'.format(year))\n",
    "    urbext_data = geemap.ee_to_pandas(urbext)\n",
    "    global totalua\n",
    "    global totalpop\n",
    "    urbarea_res = defaultdict(list)\n",
    "    pop_res = defaultdict(list)\n",
    "    print(year)\n",
    "    for i in range(len(urbext_data)):\n",
    "        ua = urbext_data.iloc[i]\n",
    "        ua_f = urbext.filter(ee.Filter.eq('city_ids', str(ua['city_ids'])))\n",
    "        geom = ua_f.geometry()\n",
    "        if ua['country'] in popcodes:\n",
    "            local_area = ee.Image.pixelArea().reduceRegion(ee.Reducer.sum(), geom, scale, maxPixels=1e12).get('area').getInfo()\n",
    "            localpop_img = pop_ic.select('population_count').first()\n",
    "            localpop = localpop_img.reduceRegion(ee.Reducer.sum(), geom, scale, maxPixels=1e12).get('population_count').getInfo()\n",
    "            urbarea_res[ua['country']].append(local_area)\n",
    "            pop_res[ua['country']].append(localpop)\n",
    "            totalua[year].append(local_area)\n",
    "            totalpop[year].append(localpop)\n",
    "        print(i, end=' ')\n",
    "    return urbarea_res, pop_res\n",
    "\n",
    "uares = {}\n",
    "popres  = {}\n",
    "totalua = {}\n",
    "totalpop = {}\n",
    "for year in [2000, 2005, 2010, 2015, 2020]:\n",
    "    totalua[year] = []\n",
    "    totalpop[year] = []\n",
    "    uares[year], popres[year] = doOneYear(ghspop_ic.filter(ee.Filter.calendarRange(year, year, 'year')), year)"
   ]
  },
  {
   "cell_type": "code",
   "execution_count": null,
   "id": "ae8c8833",
   "metadata": {},
   "outputs": [],
   "source": [
    "YEARS = [2000, 2005, 2010, 2015, 2020]\n",
    "bycountry = {}\n",
    "\n",
    "for year in YEARS:\n",
    "    if not 'global' in list(bycountry.keys()):\n",
    "        bycountry['global'] = {}\n",
    "    bycountry['global'] = bycountry['global'] | {\n",
    "        'urban_area_sqmeters_{0}'.format(year): sum(totalua[year]),\n",
    "        'urban_population_{0}'.format(year): sum(totalpop[year]),\n",
    "        'urban_popdensity_persons-per-sqmeter_{0}'.format(year): sum(totalpop[year]) / sum(totalua[year])\n",
    "    }\n",
    "\n",
    "    country_list = list(uares[year].keys())\n",
    "    country_list.sort()\n",
    "    for country in country_list:\n",
    "        if not country in list(bycountry.keys()):\n",
    "            bycountry[country] = {}\n",
    "        bycountry[country] = bycountry[country] | {\n",
    "            'urban_area_sqmeters_{0}'.format(year): sum(uares[year][country]),\n",
    "            'urban_population_{0}'.format(year): sum(popres[year][country]),\n",
    "            'urban_popdensity_persons-per-sqmeter_{0}'.format(year): sum(popres[year][country]) / sum(uares[year][country])\n",
    "        }\n",
    "\n",
    "res_pd = pd.DataFrame.from_dict(bycountry, orient='index')\n",
    "res_pd.to_csv('CTY-1_popdensity_v3a.csv')"
   ]
  },
  {
   "cell_type": "code",
   "execution_count": null,
   "id": "0e15785b",
   "metadata": {},
   "outputs": [],
   "source": []
  }
 ],
 "metadata": {
  "kernelspec": {
   "display_name": "Python 3 (ipykernel)",
   "language": "python",
   "name": "python3"
  },
  "language_info": {
   "codemirror_mode": {
    "name": "ipython",
    "version": 3
   },
   "file_extension": ".py",
   "mimetype": "text/x-python",
   "name": "python",
   "nbconvert_exporter": "python",
   "pygments_lexer": "ipython3",
   "version": "3.12.3"
  }
 },
 "nbformat": 4,
 "nbformat_minor": 5
}

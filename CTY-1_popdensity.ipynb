{
 "cells": [
  {
   "cell_type": "code",
   "execution_count": 1,
   "id": "47a009be",
   "metadata": {},
   "outputs": [],
   "source": [
    "from collections import defaultdict\n",
    "import json\n",
    "import ee\n",
    "import pandas as pd\n",
    "import geopandas as gpd\n",
    "import geemap"
   ]
  },
  {
   "cell_type": "code",
   "execution_count": 2,
   "id": "a7709614",
   "metadata": {},
   "outputs": [
    {
     "data": {
      "text/html": [
       "<p>To authorize access needed by Earth Engine, open the following\n",
       "        URL in a web browser and follow the instructions:</p>\n",
       "        <p><a href=https://code.earthengine.google.com/client-auth?scopes=https%3A//www.googleapis.com/auth/earthengine%20https%3A//www.googleapis.com/auth/devstorage.full_control&request_id=6r03eessQM9UULPbOZLeBh-H2OsWsOGnZPl-In_3Er4&tc=P6iFbXcqQbKhm-mCzMQCuK__CWKYMFYP9a19P_a7r2U&cc=yJziAtYSh7WuRR3PYYbIdRBo6GUUcJpcSD0I1Ky_72U>https://code.earthengine.google.com/client-auth?scopes=https%3A//www.googleapis.com/auth/earthengine%20https%3A//www.googleapis.com/auth/devstorage.full_control&request_id=6r03eessQM9UULPbOZLeBh-H2OsWsOGnZPl-In_3Er4&tc=P6iFbXcqQbKhm-mCzMQCuK__CWKYMFYP9a19P_a7r2U&cc=yJziAtYSh7WuRR3PYYbIdRBo6GUUcJpcSD0I1Ky_72U</a></p>\n",
       "        <p>The authorization workflow will generate a code, which you\n",
       "        should paste in the box below</p>\n",
       "        "
      ],
      "text/plain": [
       "<IPython.core.display.HTML object>"
      ]
     },
     "metadata": {},
     "output_type": "display_data"
    },
    {
     "name": "stdout",
     "output_type": "stream",
     "text": [
      "Enter verification code: 4/1Adeu5BWy2EPddJV4MEh03FJ-6ltLQUE4pitJ70A7iV9hNsots7iRiQCKSFA\n",
      "\n",
      "Successfully saved authorization token.\n"
     ]
    }
   ],
   "source": [
    "ee.Authenticate()"
   ]
  },
  {
   "cell_type": "code",
   "execution_count": 2,
   "id": "232abdc6",
   "metadata": {},
   "outputs": [],
   "source": [
    "ee.Initialize()"
   ]
  },
  {
   "cell_type": "code",
   "execution_count": 3,
   "id": "6518d5ef",
   "metadata": {},
   "outputs": [],
   "source": [
    "urbext_2020 = ee.FeatureCollection('projects/wri-datalab/SCL-Cities/urbanextents__bycountry_2020')\n",
    "urbext_data_2020 = geemap.ee_to_pandas(urbext_2020)"
   ]
  },
  {
   "cell_type": "code",
   "execution_count": 4,
   "id": "e03a6564",
   "metadata": {},
   "outputs": [],
   "source": [
    "worldpop_2020 = ee.ImageCollection(\"WorldPop/GP/100m/pop\").filter(ee.Filter.equals('year', 2020))"
   ]
  },
  {
   "cell_type": "code",
   "execution_count": 5,
   "id": "518b8e05",
   "metadata": {},
   "outputs": [],
   "source": [
    "popcodes = worldpop_2020.aggregate_array('country').getInfo()"
   ]
  },
  {
   "cell_type": "code",
   "execution_count": 6,
   "id": "ce4ad293",
   "metadata": {},
   "outputs": [
    {
     "name": "stdout",
     "output_type": "stream",
     "text": [
      "2020\n",
      "0 1 2 {'area': 51093686.05910313}\n"
     ]
    },
    {
     "ename": "NameError",
     "evalue": "name 'cow' is not defined",
     "output_type": "error",
     "traceback": [
      "\u001b[1;31m---------------------------------------------------------------------------\u001b[0m",
      "\u001b[1;31mNameError\u001b[0m                                 Traceback (most recent call last)",
      "Input \u001b[1;32mIn [6]\u001b[0m, in \u001b[0;36m<module>\u001b[1;34m\u001b[0m\n\u001b[0;32m     18\u001b[0m         \u001b[38;5;28mprint\u001b[39m(i, end\u001b[38;5;241m=\u001b[39m\u001b[38;5;124m'\u001b[39m\u001b[38;5;124m \u001b[39m\u001b[38;5;124m'\u001b[39m)\n\u001b[0;32m     19\u001b[0m     \u001b[38;5;28;01mreturn\u001b[39;00m ba_res, pop_res\n\u001b[1;32m---> 21\u001b[0m urbaeares_2020, popres_2020 \u001b[38;5;241m=\u001b[39m \u001b[43mdoOneYear\u001b[49m\u001b[43m(\u001b[49m\u001b[43murbext_2020\u001b[49m\u001b[43m,\u001b[49m\u001b[43m \u001b[49m\u001b[43murbext_data_2020\u001b[49m\u001b[43m,\u001b[49m\u001b[43m \u001b[49m\u001b[43mworldpop_2020\u001b[49m\u001b[43m,\u001b[49m\u001b[43m \u001b[49m\u001b[38;5;241;43m2020\u001b[39;49m\u001b[43m)\u001b[49m\n\u001b[0;32m     23\u001b[0m out_dicts \u001b[38;5;241m=\u001b[39m []\n\u001b[0;32m     24\u001b[0m country_list \u001b[38;5;241m=\u001b[39m \u001b[38;5;28mlist\u001b[39m(bares_2015\u001b[38;5;241m.\u001b[39mkeys())\n",
      "Input \u001b[1;32mIn [6]\u001b[0m, in \u001b[0;36mdoOneYear\u001b[1;34m(ufc, upd, pop_ic, year)\u001b[0m\n\u001b[0;32m     10\u001b[0m \u001b[38;5;28;01mif\u001b[39;00m ua[\u001b[38;5;124m'\u001b[39m\u001b[38;5;124mcountry\u001b[39m\u001b[38;5;124m'\u001b[39m] \u001b[38;5;129;01min\u001b[39;00m popcodes:\n\u001b[0;32m     11\u001b[0m     \u001b[38;5;28mprint\u001b[39m(ee\u001b[38;5;241m.\u001b[39mImage\u001b[38;5;241m.\u001b[39mpixelArea()\u001b[38;5;241m.\u001b[39mreduceRegion(ee\u001b[38;5;241m.\u001b[39mReducer\u001b[38;5;241m.\u001b[39msum(), geom, scale, maxPixels\u001b[38;5;241m=\u001b[39m\u001b[38;5;241m1e12\u001b[39m)\u001b[38;5;241m.\u001b[39mgetInfo())\n\u001b[1;32m---> 12\u001b[0m     \u001b[43mcow\u001b[49m\n\u001b[0;32m     13\u001b[0m     local_area \u001b[38;5;241m=\u001b[39m ee\u001b[38;5;241m.\u001b[39mImage\u001b[38;5;241m.\u001b[39mpixelArea()\u001b[38;5;241m.\u001b[39mreduceRegion(ee\u001b[38;5;241m.\u001b[39mReducer\u001b[38;5;241m.\u001b[39msum(), geom, scale, maxPixels\u001b[38;5;241m=\u001b[39m\u001b[38;5;241m1e12\u001b[39m)\u001b[38;5;241m.\u001b[39mget(\u001b[38;5;124m'\u001b[39m\u001b[38;5;124mb1\u001b[39m\u001b[38;5;124m'\u001b[39m)\u001b[38;5;241m.\u001b[39mgetInfo()\n\u001b[0;32m     14\u001b[0m     localpop_img \u001b[38;5;241m=\u001b[39m pop_ic\u001b[38;5;241m.\u001b[39mfilter(ee\u001b[38;5;241m.\u001b[39mFilter\u001b[38;5;241m.\u001b[39mequals(\u001b[38;5;124m'\u001b[39m\u001b[38;5;124mcountry\u001b[39m\u001b[38;5;124m'\u001b[39m, ua[\u001b[38;5;124m'\u001b[39m\u001b[38;5;124mcountry\u001b[39m\u001b[38;5;124m'\u001b[39m]))\u001b[38;5;241m.\u001b[39mselect(\u001b[38;5;124m'\u001b[39m\u001b[38;5;124mpopulation\u001b[39m\u001b[38;5;124m'\u001b[39m)\u001b[38;5;241m.\u001b[39mfirst()\n",
      "\u001b[1;31mNameError\u001b[0m: name 'cow' is not defined"
     ]
    }
   ],
   "source": [
    "scale = 100\n",
    "def doOneYear(ufc, upd, pop_ic, year):\n",
    "    urbarea_res = defaultdict(list)\n",
    "    pop_res = defaultdict(list)\n",
    "    print(year)\n",
    "    for i in range(len(upd)):\n",
    "        ua = upd.iloc[i]\n",
    "        ua_f = ufc.filter(ee.Filter.eq('city_ids', str(ua['city_ids'])))\n",
    "        geom = ua_f.geometry()\n",
    "        if ua['country'] in popcodes:\n",
    "            local_area = ee.Image.pixelArea().reduceRegion(ee.Reducer.sum(), geom, scale, maxPixels=1e12).get('area').getInfo()\n",
    "            localpop_img = pop_ic.filter(ee.Filter.equals('country', ua['country'])).select('population').first()\n",
    "            localpop = localpop_img.reduceRegion(ee.Reducer.sum(), geom, scale, maxPixels=1e12).get('population').getInfo()\n",
    "            urbarea_res[ua['country']].append(local_area)\n",
    "            pop_res[ua['country']].append(localpop)\n",
    "        print(i, end=' ')\n",
    "    return urbarea_res, pop_res\n",
    "\n",
    "urbaeares_2020, popres_2020 = doOneYear(urbext_2020, urbext_data_2020, worldpop_2020, 2020)\n",
    "\n",
    "out_dicts = []\n",
    "country_list = list(urbaeares_2020.keys())\n",
    "country_list.sort()\n",
    "for country in country_list:\n",
    "    out_dicts.append(\n",
    "        {\n",
    "            'country': country,\n",
    "            'urban_area_2020': sum(urbaeares_2020[country]),\n",
    "            'urban_population_2020': sum(popres_2020[country])\n",
    "        }\n",
    "    )\n",
    "res_pd = pd.DataFrame(out_dicts)\n",
    "res_pd.to_csv('CTY-1_popdensity.csv')"
   ]
  },
  {
   "cell_type": "code",
   "execution_count": null,
   "id": "ae8c8833",
   "metadata": {},
   "outputs": [],
   "source": []
  }
 ],
 "metadata": {
  "kernelspec": {
   "display_name": "Python 3 (ipykernel)",
   "language": "python",
   "name": "python3"
  },
  "language_info": {
   "codemirror_mode": {
    "name": "ipython",
    "version": 3
   },
   "file_extension": ".py",
   "mimetype": "text/x-python",
   "name": "python",
   "nbconvert_exporter": "python",
   "pygments_lexer": "ipython3",
   "version": "3.9.10"
  }
 },
 "nbformat": 4,
 "nbformat_minor": 5
}

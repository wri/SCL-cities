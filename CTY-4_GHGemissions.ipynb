{
 "cells": [
  {
   "cell_type": "code",
   "execution_count": 2,
   "id": "47a009be",
   "metadata": {},
   "outputs": [
    {
     "name": "stderr",
     "output_type": "stream",
     "text": [
      "C:\\Users\\theodore.wong\\AppData\\Local\\Programs\\Python\\Python39\\lib\\site-packages\\geopandas\\_compat.py:124: UserWarning: The Shapely GEOS version (3.11.1-CAPI-1.17.1) is incompatible with the GEOS version PyGEOS was compiled with (3.10.4-CAPI-1.16.2). Conversions between both will be slow.\n",
      "  warnings.warn(\n",
      "C:\\Users\\theodore.wong\\AppData\\Local\\Temp\\ipykernel_2292\\953723026.py:4: DeprecationWarning: Shapely 2.0 is installed, but because PyGEOS is also installed, GeoPandas still uses PyGEOS by default. However, starting with version 0.14, the default will switch to Shapely. To force to use Shapely 2.0 now, you can either uninstall PyGEOS or set the environment variable USE_PYGEOS=0. You can do this before starting the Python process, or in your code before importing geopandas:\n",
      "\n",
      "import os\n",
      "os.environ['USE_PYGEOS'] = '0'\n",
      "import geopandas\n",
      "\n",
      "In the next release, GeoPandas will switch to using Shapely by default, even if PyGEOS is installed. If you only have PyGEOS installed to get speed-ups, this switch should be smooth. However, if you are using PyGEOS directly (calling PyGEOS functions on geometries from GeoPandas), this will then stop working and you are encouraged to migrate from PyGEOS to Shapely 2.0 (https://shapely.readthedocs.io/en/latest/migration_pygeos.html).\n",
      "  import geopandas as gpd\n"
     ]
    }
   ],
   "source": [
    "from collections import defaultdict\n",
    "import ee\n",
    "import pandas as pd\n",
    "import geopandas as gpd\n",
    "import geemap"
   ]
  },
  {
   "cell_type": "code",
   "execution_count": 52,
   "id": "a7709614",
   "metadata": {},
   "outputs": [
    {
     "data": {
      "text/html": [
       "<p>To authorize access needed by Earth Engine, open the following\n",
       "        URL in a web browser and follow the instructions:</p>\n",
       "        <p><a href=https://code.earthengine.google.com/client-auth?scopes=https%3A//www.googleapis.com/auth/earthengine%20https%3A//www.googleapis.com/auth/devstorage.full_control&request_id=tnY1lqzMR3Fuywgbf8EHF7mJwJ1-5pLTkkCuer-ciZI&tc=bKJXVYqzqWxc_LSouCdF0tDFnvZt3GrS0bvol-oUznA&cc=3ZwEst4HPYHYVi_9XitVIRd_oUfyTO_61Mbkb-9-NiM>https://code.earthengine.google.com/client-auth?scopes=https%3A//www.googleapis.com/auth/earthengine%20https%3A//www.googleapis.com/auth/devstorage.full_control&request_id=tnY1lqzMR3Fuywgbf8EHF7mJwJ1-5pLTkkCuer-ciZI&tc=bKJXVYqzqWxc_LSouCdF0tDFnvZt3GrS0bvol-oUznA&cc=3ZwEst4HPYHYVi_9XitVIRd_oUfyTO_61Mbkb-9-NiM</a></p>\n",
       "        <p>The authorization workflow will generate a code, which you\n",
       "        should paste in the box below</p>\n",
       "        "
      ],
      "text/plain": [
       "<IPython.core.display.HTML object>"
      ]
     },
     "metadata": {},
     "output_type": "display_data"
    },
    {
     "name": "stdout",
     "output_type": "stream",
     "text": [
      "Enter verification code: 4/1Adeu5BWe2VmAK4ZjwhiH91inYrakSgqRqojiZ2wvJkrk9yTjLLpPrAvUqzI\n",
      "\n",
      "Successfully saved authorization token.\n"
     ]
    }
   ],
   "source": [
    "ee.Authenticate()"
   ]
  },
  {
   "cell_type": "code",
   "execution_count": 3,
   "id": "232abdc6",
   "metadata": {},
   "outputs": [],
   "source": [
    "ee.Initialize()"
   ]
  },
  {
   "cell_type": "code",
   "execution_count": 4,
   "id": "bdf30c89",
   "metadata": {},
   "outputs": [],
   "source": [
    "# Global warming potentials from IPCC AR5 Table 8.7. Using GWP-100.\n",
    "# https://www.ipcc.ch/site/assets/uploads/2018/02/WG1AR5_Chapter08_FINAL.pdf\n",
    "GWP = {\n",
    "    'CO2': 1,\n",
    "    'N2O': 265,\n",
    "    'CH4': 28\n",
    "}"
   ]
  },
  {
   "cell_type": "code",
   "execution_count": 5,
   "id": "e2863af1",
   "metadata": {},
   "outputs": [],
   "source": [
    "YEARS = (2000, 2005, 2010, 2015, 2016, 2017, 2018, 2019, 2020)"
   ]
  },
  {
   "cell_type": "code",
   "execution_count": 6,
   "id": "6518d5ef",
   "metadata": {},
   "outputs": [],
   "source": [
    "ch4_ic = ee.ImageCollection('projects/wri-datalab/SCL-Cities/EDGAR-GHG/CH4')\n",
    "co2_exclshort_ic = ee.ImageCollection('projects/wri-datalab/SCL-Cities/EDGAR-GHG/CO2exorgshort')\n",
    "co2_short_ic = ee.ImageCollection('projects/wri-datalab/SCL-Cities/EDGAR-GHG/CO2orgshort')\n",
    "n2o_ic = ee.ImageCollection('projects/wri-datalab/SCL-Cities/EDGAR-GHG/N2O')"
   ]
  },
  {
   "cell_type": "code",
   "execution_count": 9,
   "id": "f131c91f",
   "metadata": {},
   "outputs": [],
   "source": [
    "urbext = {}\n",
    "urbext_data = {}\n",
    "urbext[2015] = ee.FeatureCollection('projects/wri-datalab/SCL-Cities/urbanextents__bycountry_2015')\n",
    "urbext_data[2015] = geemap.ee_to_pandas(urbext[2015])\n",
    "\n",
    "urbext[2020] = ee.FeatureCollection('projects/wri-datalab/SCL-Cities/urbanextents__bycountry_2020')\n",
    "urbext_data[2020] = geemap.ee_to_pandas(urbext[2020])"
   ]
  },
  {
   "cell_type": "code",
   "execution_count": 10,
   "id": "04f2c7bb",
   "metadata": {},
   "outputs": [],
   "source": [
    "scale = 100"
   ]
  },
  {
   "cell_type": "code",
   "execution_count": 12,
   "id": "d830dfe4",
   "metadata": {},
   "outputs": [],
   "source": [
    "worldpop = ee.ImageCollection(\"WorldPop/GP/100m/pop\")\n",
    "popcodes = worldpop.filter(ee.Filter.equals('year', 2020)).aggregate_array('country').getInfo()"
   ]
  },
  {
   "cell_type": "code",
   "execution_count": null,
   "id": "93c1c248",
   "metadata": {},
   "outputs": [
    {
     "name": "stdout",
     "output_type": "stream",
     "text": [
      "\n",
      "2015\n",
      "0 1 2 3 4 5 6 7 8 9 10 11 12 13 14 15 16 17 18 19 20 21 22 23 24 25 26 27 28 29 30 31 32 33 34 35 36 37 38 39 40 41 42 43 44 45 46 47 48 49 50 51 52 53 54 55 56 57 58 59 60 61 62 63 64 65 66 67 68 69 70 71 72 73 74 75 76 77 78 79 80 81 82 83 84 85 86 87 88 89 90 91 92 93 94 95 96 97 98 99 100 101 102 103 104 105 106 107 108 109 110 111 112 113 114 115 116 117 118 119 120 121 122 123 124 125 126 127 128 129 130 131 132 133 134 135 136 137 138 139 140 141 142 143 144 145 146 147 148 149 150 151 152 153 154 155 156 157 158 159 160 161 162 163 164 165 166 167 168 169 170 171 172 173 174 175 176 177 178 179 180 181 182 183 184 185 186 187 188 189 190 191 192 193 194 195 196 197 198 199 200 201 202 203 204 205 206 207 208 209 210 211 212 213 214 215 216 217 218 219 220 221 222 223 224 225 226 227 228 229 230 231 232 233 234 235 236 237 238 239 240 241 242 243 244 245 246 247 248 249 250 251 252 253 254 255 256 257 258 259 260 261 262 263 264 265 266 267 268 269 270 271 272 273 274 275 276 277 278 279 280 281 282 283 284 285 286 287 288 289 290 291 292 293 294 295 296 297 298 299 300 301 302 303 304 305 306 307 308 309 310 311 312 313 314 315 316 317 318 319 320 321 322 323 324 325 326 327 328 329 330 331 332 333 334 335 336 337 338 339 340 341 342 343 344 345 346 347 348 349 350 351 352 353 354 355 356 357 358 359 360 361 362 363 364 365 366 367 368 369 370 371 372 373 374 375 376 377 378 379 380 381 382 383 384 385 386 387 388 389 390 391 392 393 394 395 396 397 398 399 400 401 402 403 404 405 406 407 408 409 410 411 412 413 414 415 416 417 418 419 420 421 422 423 424 425 426 427 428 429 430 431 432 433 434 435 436 437 438 439 440 441 442 443 444 445 446 447 448 449 450 451 452 453 454 455 456 457 458 459 460 461 462 463 464 465 466 467 468 469 470 471 472 473 474 475 476 477 478 479 480 481 482 483 484 485 486 487 488 489 490 491 492 493 494 495 496 497 498 499 500 501 502 503 504 505 506 507 508 509 510 511 512 513 514 515 516 517 518 519 520 521 522 523 524 525 526 527 528 529 530 531 532 533 534 535 536 537 538 539 540 541 542 543 544 545 546 547 548 549 550 551 552 553 554 555 556 557 558 559 560 561 562 563 564 565 566 567 568 569 570 571 572 573 574 575 576 577 578 579 580 581 582 583 584 585 586 587 588 589 590 591 592 593 594 595 596 597 598 599 600 601 602 603 604 605 606 607 608 609 610 611 612 613 614 615 616 617 618 619 620 621 622 623 624 625 626 627 628 629 630 631 632 633 634 635 636 637 638 639 640 641 642 643 644 645 646 647 648 649 650 651 652 653 654 655 656 657 658 659 660 661 662 663 664 665 666 667 668 669 670 671 672 673 674 675 676 677 678 679 680 681 682 683 684 685 686 687 688 689 690 691 692 693 694 695 696 697 698 699 700 701 702 703 704 705 706 707 708 709 710 711 712 713 714 715 716 717 718 719 720 721 722 723 724 725 726 727 728 729 730 731 732 733 734 735 736 737 738 739 740 741 742 743 744 745 746 747 748 749 750 751 752 753 754 755 756 757 758 759 760 761 762 763 764 765 766 767 768 769 770 771 772 773 774 775 776 777 778 779 780 781 782 783 784 785 786 787 788 789 790 791 792 793 794 795 796 797 798 799 800 801 802 803 804 805 806 807 808 809 810 811 812 813 814 815 816 817 818 819 820 821 822 823 824 825 826 827 828 829 830 831 832 833 834 835 836 837 838 839 840 841 842 843 844 845 846 847 848 849 850 851 852 853 854 855 856 857 858 859 860 861 862 863 864 865 866 867 868 869 870 871 872 873 874 875 876 877 878 879 880 881 882 883 884 885 886 887 888 889 890 891 892 893 894 895 896 897 898 899 900 901 902 903 904 905 906 907 908 909 910 911 912 913 914 915 916 917 918 919 920 921 922 923 924 925 926 927 928 929 930 931 932 933 934 935 936 937 938 939 940 941 942 943 944 945 946 947 948 949 950 951 952 953 954 955 956 957 958 959 960 961 962 963 964 965 966 967 968 969 970 971 972 973 974 975 976 977 978 979 980 981 982 983 984 985 986 987 988 989 990 991 992 993 994 995 996 997 998 999 1000 1001 1002 1003 1004 1005 1006 1007 1008 1009 1010 1011 1012 1013 1014 1015 1016 1017 1018 1019 1020 1021 1022 1023 1024 1025 1026 1027 1028 1029 1030 1031 1032 1033 1034 1035 1036 1037 1038 1039 1040 1041 1042 1043 1044 1045 1046 1047 1048 1049 1050 1051 1052 1053 1054 1055 1056 1057 1058 1059 1060 1061 1062 1063 1064 1065 1066 1067 1068 1069 1070 1071 1072 1073 1074 1075 1076 1077 1078 1079 1080 1081 1082 1083 1084 1085 1086 1087 1088 1089 1090 1091 1092 1093 1094 1095 1096 1097 1098 1099 1100 1101 1102 1103 1104 1105 1106 1107 1108 1109 1110 1111 1112 1113 1114 1115 1116 1117 1118 1119 1120 1121 1122 1123 1124 1125 1126 1127 1128 1129 1130 1131 1132 1133 1134 1135 1136 1137 1138 1139 1140 1141 1142 1143 1144 1145 1146 1147 1148 1149 1150 1151 1152 1153 1154 1155 1156 1157 1158 1159 1160 1161 1162 1163 1164 1165 1166 1167 1168 1169 1170 1171 1172 1173 1174 1175 1176 1177 1178 1179 1180 1181 1182 1183 1184 1185 1186 1187 1188 1189 1190 1191 1192 1193 1194 1195 1196 1197 1198 1199 1200 1201 1202 1203 1204 1205 1206 1207 1208 1209 1210 1211 1212 1213 1214 1215 1216 1217 1218 1219 1220 1221 1222 1223 1224 1225 1226 1227 1228 1229 1230 1231 1232 1233 1234 1235 1236 1237 1238 1239 1240 1241 1242 1243 1244 1245 1246 1247 1248 1249 1250 1251 1252 1253 1254 1255 1256 1257 1258 1259 1260 1261 1262 1263 1264 1265 1266 1267 1268 1269 1270 1271 1272 1273 1274 1275 1276 1277 1278 1279 1280 1281 1282 1283 1284 1285 1286 1287 1288 1289 1290 1291 1292 1293 1294 1295 1296 1297 1298 1299 1300 1301 1302 1303 1304 1305 1306 1307 1308 1309 1310 1311 1312 1313 1314 1315 1316 1317 1318 1319 1320 1321 1322 1323 1324 1325 1326 1327 1328 1329 1330 1331 1332 1333 1334 1335 "
     ]
    }
   ],
   "source": [
    "emi_res = defaultdict(list)\n",
    "pop_res = defaultdict(list)\n",
    "\n",
    "emi_total = {}\n",
    "pop_total = {}\n",
    "\n",
    "for year in [2015, 2020]:\n",
    "    emi_total[year] = []\n",
    "    pop_total[year] = []\n",
    "    print()\n",
    "    print(year)\n",
    "    ch4 = ch4_ic.filter(ee.Filter.eq('year', year)).first()\n",
    "    co2_exclshort = co2_exclshort_ic.filter(ee.Filter.eq('year', year)).first()\n",
    "    co2_short = co2_short_ic.filter(ee.Filter.eq('year', year)).first()\n",
    "    n2o = n2o_ic.filter(ee.Filter.eq('year', year)).first()\n",
    "    co2e = (co2_exclshort.add(co2_short).add(n2o.multiply(GWP['N2O'])).add(ch4.multiply(GWP['CH4']))).multiply(31536) # avg tonnes per sq-m per year\n",
    "    for i in range(len(urbext_data[year])):\n",
    "        ua = urbext_data[year].iloc[i]\n",
    "        ua_f = urbext[year].filter(ee.Filter.eq('city_ids', str(ua['city_ids'])))\n",
    "        geom = ua_f.geometry()\n",
    "        if ua['country'] in popcodes:\n",
    "            localpop_img = worldpop.filter(ee.Filter.equals('year', year)).filter(ee.Filter.equals('country', ua['country'])).select('population').first()\n",
    "            localemi = co2e.multiply(ee.Image.pixelArea()).reduceRegion(ee.Reducer.sum(), geom, scale, maxPixels=1e12).getInfo()['b1']\n",
    "            localpop = localpop_img.reduceRegion(ee.Reducer.sum(), geom, scale, maxPixels=1e12).getInfo()['population']\n",
    "\n",
    "            emi_res[(ua['country'], year)].append(localemi)\n",
    "            pop_res[(ua['country'], year)].append(localpop)\n",
    "            emi_total[year].append(localemi)\n",
    "            pop_total[year].append(localpop)\n",
    "    \n",
    "        print(i, end=' ')\n"
   ]
  },
  {
   "cell_type": "code",
   "execution_count": null,
   "id": "52251a9b",
   "metadata": {},
   "outputs": [],
   "source": [
    "out_dicts = []\n",
    "\n",
    "out_dicts.append(\n",
    "    {\n",
    "        'country': 'global',\n",
    "        'urban_ghg_emissions_tonnesCO2e_{0}'.format(year): sum(emi_total),\n",
    "        'urban_population_{0}'.format(year): sum(pop_total)\n",
    "    }\n",
    ")\n",
    "\n",
    "country_list = [i for i in list(set([i[0] for i in list(emi_res.keys())])) if (type(i)==str and len(i)>1)]\n",
    "country_list.sort()\n",
    "for country in country_list:\n",
    "    out_dicts.append(\n",
    "        {\n",
    "            'country': country,\n",
    "            'urban_ghg_emissions_tonnesCO2e_{0}'.format(year): sum(emi_res[(country, year)]),\n",
    "            'urban_population_{0}'.format(year): sum(pop_res[(country, year)])\n",
    "        }\n",
    "    )\n",
    "res_pd = pd.DataFrame(out_dicts)\n",
    "res_pd.to_csv('CTY-4_GHGemissions.csv')"
   ]
  },
  {
   "cell_type": "code",
   "execution_count": null,
   "id": "21f7dc2e",
   "metadata": {},
   "outputs": [],
   "source": []
  }
 ],
 "metadata": {
  "kernelspec": {
   "display_name": "Python 3 (ipykernel)",
   "language": "python",
   "name": "python3"
  },
  "language_info": {
   "codemirror_mode": {
    "name": "ipython",
    "version": 3
   },
   "file_extension": ".py",
   "mimetype": "text/x-python",
   "name": "python",
   "nbconvert_exporter": "python",
   "pygments_lexer": "ipython3",
   "version": "3.9.10"
  }
 },
 "nbformat": 4,
 "nbformat_minor": 5
}

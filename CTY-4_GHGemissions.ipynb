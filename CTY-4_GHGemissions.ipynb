{
 "cells": [
  {
   "cell_type": "code",
   "execution_count": 1,
   "id": "47a009be",
   "metadata": {},
   "outputs": [],
   "source": [
    "from collections import defaultdict\n",
    "import ee\n",
    "import pandas as pd\n",
    "import geopandas as gpd\n",
    "import geemap"
   ]
  },
  {
   "cell_type": "code",
   "execution_count": 2,
   "id": "a7709614",
   "metadata": {},
   "outputs": [
    {
     "data": {
      "text/html": [
       "<p>To authorize access needed by Earth Engine, open the following\n",
       "        URL in a web browser and follow the instructions:</p>\n",
       "        <p><a href=https://code.earthengine.google.com/client-auth?scopes=https%3A//www.googleapis.com/auth/earthengine%20https%3A//www.googleapis.com/auth/devstorage.full_control&request_id=3qEKCuncrfxh_lwQ5wZuDEnwEsAkXMM_-1ONtW0X1kU&tc=UpSY0gOnyrqqGbcwCvA28Oyq_CU0FXWg9X9cXooqXZ8&cc=ECnIqRlgZCwQ6nZAMoCYJmr6690duMQcx3qntX8QJyA>https://code.earthengine.google.com/client-auth?scopes=https%3A//www.googleapis.com/auth/earthengine%20https%3A//www.googleapis.com/auth/devstorage.full_control&request_id=3qEKCuncrfxh_lwQ5wZuDEnwEsAkXMM_-1ONtW0X1kU&tc=UpSY0gOnyrqqGbcwCvA28Oyq_CU0FXWg9X9cXooqXZ8&cc=ECnIqRlgZCwQ6nZAMoCYJmr6690duMQcx3qntX8QJyA</a></p>\n",
       "        <p>The authorization workflow will generate a code, which you\n",
       "        should paste in the box below</p>\n",
       "        "
      ],
      "text/plain": [
       "<IPython.core.display.HTML object>"
      ]
     },
     "metadata": {},
     "output_type": "display_data"
    },
    {
     "name": "stdout",
     "output_type": "stream",
     "text": [
      "Enter verification code: 4/1AZEOvhVVkRGU-fI0qtUMzJ-NrNv6-t2eQqtOGcrtdIuvT4_FLWJJOKmAksk\n",
      "\n",
      "Successfully saved authorization token.\n"
     ]
    }
   ],
   "source": [
    "ee.Authenticate()"
   ]
  },
  {
   "cell_type": "code",
   "execution_count": 2,
   "id": "232abdc6",
   "metadata": {},
   "outputs": [],
   "source": [
    "ee.Initialize()"
   ]
  },
  {
   "cell_type": "code",
   "execution_count": 3,
   "id": "bdf30c89",
   "metadata": {},
   "outputs": [],
   "source": [
    "# Global warming potentials from IPCC AR5 Table 8.7. Using GWP-100.\n",
    "# https://www.ipcc.ch/site/assets/uploads/2018/02/WG1AR5_Chapter08_FINAL.pdf\n",
    "GWP = {\n",
    "    'CO2': 1,\n",
    "    'N2O': 265,\n",
    "    'CH4': 28\n",
    "}"
   ]
  },
  {
   "cell_type": "code",
   "execution_count": 4,
   "id": "6518d5ef",
   "metadata": {},
   "outputs": [],
   "source": [
    "ch4 = ee.Image('projects/wri-datalab/SCL-Cities/EDGAR_CH4_2020')\n",
    "co2_exclshort = ee.Image('projects/wri-datalab/SCL-Cities/EDGAR_CO2exclshort_2020')\n",
    "co2_short = ee.Image('projects/wri-datalab/SCL-Cities/EDGAR_CO2short_2020')\n",
    "n20 = ee.Image('projects/wri-datalab/SCL-Cities/EDGAR_N2O_2020')\n",
    "co2e = (co2_exclshort.add(co2_short).add(n20.multiply(GWP['N2O'])).add(ch4.multiply(GWP['CH4']))).multiply(31536) # avg tonnes per sq-m per year"
   ]
  },
  {
   "cell_type": "code",
   "execution_count": 5,
   "id": "f131c91f",
   "metadata": {},
   "outputs": [],
   "source": [
    "urbext_2020 = ee.FeatureCollection('projects/wri-datalab/SCL-Cities/urbanextents__bycountry_2020')\n",
    "urbext_data_2020 = geemap.ee_to_pandas(urbext_2020)"
   ]
  },
  {
   "cell_type": "code",
   "execution_count": 7,
   "id": "b53aa6bf",
   "metadata": {},
   "outputs": [],
   "source": [
    "scale = 100"
   ]
  },
  {
   "cell_type": "code",
   "execution_count": 10,
   "id": "9407ac3f",
   "metadata": {},
   "outputs": [],
   "source": [
    "worldpop_2020 = ee.ImageCollection(\"WorldPop/GP/100m/pop\").filter(ee.Filter.equals('year', 2020))\n",
    "popcodes = worldpop_2020.aggregate_array('country').getInfo()"
   ]
  },
  {
   "cell_type": "code",
   "execution_count": null,
   "id": "afc0582c",
   "metadata": {},
   "outputs": [
    {
     "name": "stdout",
     "output_type": "stream",
     "text": [
      "0 1 2 3 4 5 6 7 8 9 10 11 12 13 14 15 16 17 18 19 20 21 22 23 24 25 26 27 28 29 30 31 32 33 34 35 36 37 38 39 40 41 42 43 "
     ]
    }
   ],
   "source": [
    "emi_res = defaultdict(list)\n",
    "pop_res = defaultdict(list)\n",
    "for i in range(len(urbext_data_2020)):\n",
    "    ua = urbext_data_2020.iloc[i]\n",
    "    ua_f = urbext_2020.filter(ee.Filter.eq('city_ids', str(ua['city_ids'])))\n",
    "    geom = ua_f.geometry()\n",
    "    if ua['country'] in popcodes:\n",
    "        localpop_img = worldpop.filter(ee.Filter.equals('country', ua['country'])).select('population').first()\n",
    "        localemi = co2e.multiply(co2e.pixelArea()).reduceRegion(ee.Reducer.sum(), geom, scale, maxPixels=1e12).getInfo()['b1']\n",
    "        localpop = localpop_img.reduceRegion(ee.Reducer.sum(), geom, scale, maxPixels=1e12).getInfo()['population']\n",
    "\n",
    "        emi_res[ua['country']].append(localemi)\n",
    "        pop_res[emi_res[ua['country']].append(localpop)]\n",
    "    \n",
    "    print(i, end=' ')\n",
    "    \n",
    "    \n",
    "out_dicts = []\n",
    "country_list = list(emi_res.keys())\n",
    "country_list.sort()\n",
    "for country in country_list:\n",
    "    out_dicts.append(\n",
    "        {\n",
    "            'country': country,\n",
    "            'urban_ghg_emissions_tonnesCO2e_2020': sum(emi_res[country]),\n",
    "            'urban_population_2020': sum(pop_res[country])\n",
    "        }\n",
    "    )\n",
    "res_pd = pd.DataFrame(out_dicts)\n",
    "res_pd.to_csv('CTY-4_GHGemissions.csv')"
   ]
  },
  {
   "cell_type": "code",
   "execution_count": null,
   "id": "2d2243bd",
   "metadata": {},
   "outputs": [],
   "source": []
  },
  {
   "cell_type": "code",
   "execution_count": null,
   "id": "5b720722",
   "metadata": {},
   "outputs": [],
   "source": []
  }
 ],
 "metadata": {
  "kernelspec": {
   "display_name": "Python 3 (ipykernel)",
   "language": "python",
   "name": "python3"
  },
  "language_info": {
   "codemirror_mode": {
    "name": "ipython",
    "version": 3
   },
   "file_extension": ".py",
   "mimetype": "text/x-python",
   "name": "python",
   "nbconvert_exporter": "python",
   "pygments_lexer": "ipython3",
   "version": "3.9.10"
  }
 },
 "nbformat": 4,
 "nbformat_minor": 5
}

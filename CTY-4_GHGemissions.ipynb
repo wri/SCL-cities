{
 "cells": [
  {
   "cell_type": "code",
   "execution_count": null,
   "id": "47a009be",
   "metadata": {},
   "outputs": [],
   "source": [
    "from collections import defaultdict\n",
    "import ee\n",
    "import pandas as pd\n",
    "import geopandas as gpd\n",
    "import geemap"
   ]
  },
  {
   "cell_type": "code",
   "execution_count": null,
   "id": "a7709614",
   "metadata": {},
   "outputs": [],
   "source": [
    "ee.Authenticate()"
   ]
  },
  {
   "cell_type": "code",
   "execution_count": 2,
   "id": "232abdc6",
   "metadata": {},
   "outputs": [],
   "source": [
    "ee.Initialize()"
   ]
  },
  {
   "cell_type": "code",
   "execution_count": null,
   "id": "bdf30c89",
   "metadata": {},
   "outputs": [],
   "source": [
    "# Global warming potentials from IPCC AR5 Table 8.7. Using GWP-100.\n",
    "# https://www.ipcc.ch/site/assets/uploads/2018/02/WG1AR5_Chapter08_FINAL.pdf\n",
    "GWP = {\n",
    "    'CO2': 1,\n",
    "    'N2O': 265,\n",
    "    'CH4': 28\n",
    "}"
   ]
  },
  {
   "cell_type": "code",
   "execution_count": null,
   "id": "6518d5ef",
   "metadata": {},
   "outputs": [],
   "source": [
    "ch4_ic = ee.ImageCollection('projects/wri-datalab/SCL-Cities/EDGAR-GHG/CH4')\n",
    "co2_exclshort_ic = ee.ImageCollection('projects/wri-datalab/SCL-Cities/EDGAR-GHG/CO2exorgshort')\n",
    "co2_short_ic = ee.ImageCollection('projects/wri-datalab/SCL-Cities/EDGAR-GHG/CO2orgshort')\n",
    "n2o_ic = ee.ImageCollection('projects/wri-datalab/SCL-Cities/EDGAR-GHG/N2O')"
   ]
  },
  {
   "cell_type": "code",
   "execution_count": 9,
   "id": "f131c91f",
   "metadata": {},
   "outputs": [],
   "source": []
  },
  {
   "cell_type": "code",
   "id": "04f2c7bb",
   "execution_count": null,
   "metadata": {},
   "outputs": [],
   "source": [
    "scale = 100"
   ]
  },
  {
   "cell_type": "code",
   "execution_count": 6,
   "id": "d830dfe4",
   "metadata": {},
   "outputs": [],
   "source": [
    "YEARS = [2000, 2005, 2010, 2015, 2020]"
   ]
  },
  {
   "cell_type": "code",
   "execution_count": null,
   "id": "93c1c248",
   "metadata": {},
   "outputs": [],
   "source": [
    "bycountry = {}\n",
    "for idx, year in enumerate(YEARS):\n",
    "    urbext = {}\n",
    "    urbext_data = {}\n",
    "    urbext[year] = ee.FeatureCollection('projects/wri-datalab/SCL-Cities/urbanextents__bycountry_{0}'.format(year))\n",
    "\n",
    "    with open('popcodes.json', 'r') as popfile:\n",
    "        popcodes2 = json.loads(popfile.read())\n",
    "    urbext_data[year] = geemap.ee_to_df(urbext[year])\n",
    "\n",
    "    emi_res = defaultdict(list)\n",
    "    pop_res = defaultdict(list)\n",
    "\n",
    "    emi_total = {}\n",
    "    pop_total = {}\n",
    "\n",
    "    emi_total[year] = []\n",
    "    pop_total[year] = []\n",
    "         \n",
    "    print()\n",
    "    print(year)\n",
    "    ch4 = ch4_ic.filter(ee.Filter.eq('year', year)).first()\n",
    "    co2_exclshort = co2_exclshort_ic.filter(ee.Filter.eq('year', year)).first()\n",
    "    co2_short = co2_short_ic.filter(ee.Filter.eq('year', year)).first()\n",
    "    n2o = n2o_ic.filter(ee.Filter.eq('year', year)).first()\n",
    "    co2e = (co2_exclshort.add(co2_short).add(n2o.multiply(GWP['N2O'])).add(ch4.multiply(GWP['CH4']))).multiply(31536) # avg tonnes per sq-m per year\n",
    "    for i in range(len(urbext_data[year])):\n",
    "        ua = urbext_data[year].iloc[i]\n",
    "        ua_f = urbext[year].filter(ee.Filter.eq('city_ids', str(ua['city_ids'])))\n",
    "        geom = ua_f.geometry()\n",
    "        if ua['country'] in popcodes:\n",
    "            ghspop_img = ee.ImageCollection(\"JRC/GHSL/P2023A/GHS_POP\").filter(ee.Filter.calendarRange(year, year, 'year')).select('population_count').first()\n",
    "            pop_img = ghspop_img.divide(ghspop_img.pixelArea())\n",
    "            \n",
    "            localpop = ghspop_img.reduceRegion(ee.Reducer.sum(), geom, scale, maxPixels=1e12).get('population_count').getInfo()\n",
    "\n",
    "            localemi = co2e.multiply(ee.Image.pixelArea()).reduceRegion(ee.Reducer.sum(), geom, scale, maxPixels=1e12).getInfo()['b1']\n",
    "\n",
    "            emi_res[(ua['country'], year)].append(localemi)\n",
    "            pop_res[(ua['country'], year)].append(localpop)\n",
    "            emi_total[year].append(localemi)\n",
    "            pop_total[year].append(localpop)\n",
    "\n",
    "        print(i, end=' ')\n",
    "\n",
    "    if idx == 0:\n",
    "        bycountry['global'] = {}  \n",
    "    bycountry['global'] = bycountry['global'] | {\n",
    "    'urban_ghg_emissions_tonnesCO2e_{0}'.format(year): sum(emi_total[year]),\n",
    "    'urban_population_{0}'.format(year): sum(pop_total[year]),\n",
    "    'urban_ghg_percapita_tonnesCO2e_{0}'.format(year): sum(emi_total[year]) / sum(pop_total[year])\n",
    "    }\n",
    "\n",
    "    country_list = [i for i in list(set([i[0] for i in list(emi_res.keys())])) if (type(i)==str and len(i)>1)]\n",
    "    country_list.sort()\n",
    "    for country in country_list:\n",
    "        if idx == 0:\n",
    "            bycountry[country] = {}\n",
    "          \n",
    "        bycountry[country] = bycountry[country] | {\n",
    "                'urban_ghg_emissions_tonnesCO2e_{0}'.format(year): sum(emi_res[(country, year)]),\n",
    "                'urban_population_{0}'.format(year): sum(pop_res[(country, year)]),\n",
    "                'urban_ghg_percapita_tonnesCO2e_{0}'.format(year): sum(emi_res[(country, year)]) / sum(pop_res[(country, year)])\n",
    "            }\n",
    "        \n",
    "res_pd = pd.DataFrame.from_dict(bycountry, orient='index')\n",
    "res_pd.to_csv('CTY-4_GHGemissions_v3.csv')"
   ]
  },
  {
   "cell_type": "code",
   "execution_count": 22,
   "id": "52251a9b",
   "metadata": {},
   "outputs": [],
   "source": []
  },
  {
   "cell_type": "code",
   "execution_count": null,
   "id": "8acb144e",
   "metadata": {},
   "outputs": [],
   "source": []
  }
 ],
 "metadata": {
  "kernelspec": {
   "display_name": "Python 3 (ipykernel)",
   "language": "python",
   "name": "python3"
  },
  "language_info": {
   "codemirror_mode": {
    "name": "ipython",
    "version": 3
   },
   "file_extension": ".py",
   "mimetype": "text/x-python",
   "name": "python",
   "nbconvert_exporter": "python",
   "pygments_lexer": "ipython3",
   "version": "3.12.3"
  }
 },
 "nbformat": 4,
 "nbformat_minor": 5
}

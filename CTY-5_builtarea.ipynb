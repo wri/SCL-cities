{
 "cells": [
  {
   "cell_type": "markdown",
   "id": "b1e9e444",
   "metadata": {},
   "source": [
    "# Setup"
   ]
  },
  {
   "cell_type": "code",
   "execution_count": null,
   "id": "47a009be",
   "metadata": {},
   "outputs": [],
   "source": [
    "from collections import defaultdict\n",
    "import json\n",
    "import ee\n",
    "import pandas as pd\n",
    "import geopandas as gpd\n",
    "import geemap"
   ]
  },
  {
   "cell_type": "code",
   "execution_count": null,
   "id": "a7709614",
   "metadata": {},
   "outputs": [],
   "source": [
    "ee.Authenticate()\n",
    "ee.Initialize()"
   ]
  },
  {
   "cell_type": "markdown",
   "id": "80c344ee",
   "metadata": {},
   "source": [
    "# Constants"
   ]
  },
  {
   "cell_type": "code",
   "execution_count": null,
   "id": "57e923e6",
   "metadata": {},
   "outputs": [],
   "source": [
    "with open('popcodes.json', 'r') as popfile:\n",
    "    popcodes2 = json.loads(popfile.read())\n",
    "\n",
    "scale = 100\n",
    "\n",
    "YEARS = [2000, 2005, 2010, 2015, 2020]"
   ]
  },
  {
   "cell_type": "markdown",
   "id": "feee6ae9",
   "metadata": {},
   "source": [
    "# Data"
   ]
  },
  {
   "cell_type": "code",
   "execution_count": null,
   "id": "6b29e1cb",
   "metadata": {},
   "outputs": [],
   "source": [
    "ba_ic = ee.ImageCollection('JRC/GHSL/P2023A/GHS_BUILT_S')\n",
    "ghspop_ic = ee.ImageCollection(\"JRC/GHSL/P2023A/GHS_POP\")"
   ]
  },
  {
   "cell_type": "markdown",
   "id": "d4ef3bc5",
   "metadata": {},
   "source": [
    "# Functions"
   ]
  },
  {
   "cell_type": "code",
   "execution_count": null,
   "id": "d1a0163c",
   "metadata": {},
   "outputs": [],
   "source": [
    "def doOneYear(ufc, upd, ba_i, pop_ic, year):\n",
    "    global ba_total\n",
    "    global pop_total\n",
    "    ba_res = defaultdict(list)\n",
    "    pop_res = defaultdict(list)\n",
    "    print(\"\")\n",
    "    print(year)\n",
    "    for i in range(len(upd)):\n",
    "        ua = upd.iloc[i]\n",
    "        ua_f = ufc.filter(ee.Filter.eq('city_ids', str(ua['city_ids'])))\n",
    "        geom = ua_f.geometry()\n",
    "        if ua['country'] in popcodes2:\n",
    "            local_ba = ba_i.reduceRegion(ee.Reducer.sum(), geom, scale, maxPixels=1e12).get('built_surface').getInfo()\n",
    "            localpop_img = pop_ic.select('population_count').first()\n",
    "            localpop = localpop_img.reduceRegion(ee.Reducer.sum(), geom, scale, maxPixels=1e12).get('population_count').getInfo()\n",
    "            ba_res[ua['country']].append(local_ba)\n",
    "            pop_res[ua['country']].append(localpop)\n",
    "            ba_total[year].append(local_ba)\n",
    "            pop_total[year].append(localpop)\n",
    "        print(i, end=' ')\n",
    "    return ba_res, pop_res"
   ]
  },
  {
   "cell_type": "markdown",
   "id": "b9e6355a",
   "metadata": {},
   "source": [
    "# Caluculations"
   ]
  },
  {
   "cell_type": "code",
   "execution_count": null,
   "id": "ce4ad293",
   "metadata": {},
   "outputs": [],
   "source": [
    "urbext = {}\n",
    "urbext_data = {}\n",
    "bares = {}\n",
    "popres = {}\n",
    "ba_total = {}\n",
    "pop_total = {}\n",
    "for year in YEARS:\n",
    "    urbext[year] = ee.FeatureCollection('projects/wri-datalab/SCL-Cities/urbanextents__bycountry_{0}_v7'.format(year))\n",
    "    urbext_data[year] = geemap.ee_to_df(urbext[year])\n",
    "\n",
    "for year in YEARS:\n",
    "    ba_total[year] = []\n",
    "    pop_total[year] = []\n",
    "    bares[year], popres[year] = doOneYear(urbext[year], urbext_data[year], ba_ic.filter(ee.Filter.eq('system:index', str(year))).first(), ghspop_ic.filter(ee.Filter.calendarRange(year, year, 'year')), year)"
   ]
  },
  {
   "cell_type": "markdown",
   "id": "fb75a7bc",
   "metadata": {},
   "source": [
    "# Sum & Format"
   ]
  },
  {
   "cell_type": "code",
   "execution_count": null,
   "id": "ae8c8833",
   "metadata": {},
   "outputs": [],
   "source": [
    "YEARPAIRS = [(2000, 2005), (2005, 2010), (2010, 2015), (2015, 2020)]\n",
    "bycountry = {}\n",
    "for idx, yearpair in enumerate(YEARPAIRS):\n",
    "    year1, year2 = yearpair\n",
    "    print('\\n\\n{0} {1}\\n'.format(year1, year2))\n",
    "    if idx == 0:\n",
    "        bycountry['global'] = {\n",
    "                'urban_built_area_{0}'.format(year1): sum(ba_total[year1]),\n",
    "                'urban_population_{0}'.format(year1): sum(pop_total[year1]),\n",
    "                'urban_built_area_{0}'.format(year2): sum(ba_total[year2]),\n",
    "                'urban_population_{0}'.format(year2): sum(pop_total[year2]),\n",
    "                'changerate_landconsumptionperperson_{0}-{1}'.format(year1, year2): (math.log(sum(ba_total[year2])/sum(pop_total[year2])) - math.log(sum(ba_total[year1])/sum(pop_total[year1]))) / (year2 - year1)\n",
    "            }\n",
    "        \n",
    "\n",
    "        country_list = [i for i in list(set(bares[year2].keys())) if type(i)==str]\n",
    "        country_list.sort()\n",
    "        for country in country_list:\n",
    "            bycountry[country] = {\n",
    "                    'urban_built_area_{0}'.format(year1): sum(bares[year1][country]),\n",
    "                    'urban_population_{0}'.format(year1): sum(popres[year1][country]),\n",
    "                    'urban_built_area_{0}'.format(year2): sum(bares[year2][country]),\n",
    "                    'urban_population_{0}'.format(year2): sum(popres[year2][country]),\n",
    "                    'changerate_landconsumptionperperson_{0}-{1}'.format(year1, year2): (math.log(sum(bares[year2][country])/sum(popres[year2][country])) - math.log(sum(bares[year1][country])/sum(popres[year1][country]))) / (year2 - year1)\n",
    "                }\n",
    "    else:\n",
    "        bycountry['global'] = bycountry['global'] | {\n",
    "                'urban_built_area_{0}'.format(year2): sum(ba_total[year2]),\n",
    "                'urban_population_{0}'.format(year2): sum(pop_total[year2]),\n",
    "                'changerate_landconsumptionperperson_{0}-{1}'.format(year1, year2): (math.log(sum(ba_total[year2])/sum(pop_total[year2])) - math.log(sum(ba_total[year1])/sum(pop_total[year1]))) / (year2 - year1)\n",
    "            }\n",
    "        \n",
    "\n",
    "        country_list = [i for i in list(set(bares[year2].keys())) if type(i)==str]\n",
    "        country_list.sort()\n",
    "        for country in country_list:\n",
    "            bycountry[country] = bycountry[country] | {\n",
    "                    'urban_built_area_{0}'.format(year2): sum(bares[year2][country]),\n",
    "                    'urban_population_{0}'.format(year2): sum(popres[year2][country]),\n",
    "                    'changerate_landconsumptionperperson_{0}-{1}'.format(year1, year2): (math.log(sum(bares[year2][country])/sum(popres[year2][country])) - math.log(sum(bares[year1][country])/sum(popres[year1][country]))) / (year2 - year1)\n",
    "                }"
   ]
  },
  {
   "cell_type": "markdown",
   "id": "321384b1",
   "metadata": {},
   "source": [
    "# Output"
   ]
  },
  {
   "cell_type": "code",
   "execution_count": null,
   "id": "be1783d2",
   "metadata": {},
   "outputs": [],
   "source": [
    "res_pd = pd.DataFrame.from_dict(bycountry, orient='index')\n",
    "res_pd.index.name = 'geo'\n",
    "res_pd.to_csv('CTY-5_landconsumption_changerate_v7.csv')"
   ]
  }
 ],
 "metadata": {
  "kernelspec": {
   "display_name": "scl_cities",
   "language": "python",
   "name": "scl_cities"
  },
  "language_info": {
   "codemirror_mode": {
    "name": "ipython",
    "version": 3
   },
   "file_extension": ".py",
   "mimetype": "text/x-python",
   "name": "python",
   "nbconvert_exporter": "python",
   "pygments_lexer": "ipython3",
   "version": "3.9.10"
  }
 },
 "nbformat": 4,
 "nbformat_minor": 5
}

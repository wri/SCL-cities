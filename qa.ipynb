{
 "cells": [
  {
   "cell_type": "markdown",
   "metadata": {},
   "source": [
    "# Setup"
   ]
  },
  {
   "cell_type": "code",
   "execution_count": null,
   "metadata": {},
   "outputs": [],
   "source": [
    "import pandas as pd\n",
    "import datacompy"
   ]
  },
  {
   "cell_type": "markdown",
   "metadata": {},
   "source": [
    "# Constants"
   ]
  },
  {
   "cell_type": "code",
   "execution_count": null,
   "metadata": {},
   "outputs": [],
   "source": [
    "# Define a common function to compare reslts\n",
    "def compair_results(final, check):\n",
    "    compare = datacompy.Compare(\n",
    "            final,\n",
    "            check,\n",
    "            join_columns='geography',\n",
    "            #abs_tol=0.0001, # How much error you can tolerate\n",
    "            rel_tol=0.000_001,\n",
    "            df1_name='final',\n",
    "            df2_name='check'\n",
    "            )\n",
    "    return compare"
   ]
  },
  {
   "cell_type": "markdown",
   "metadata": {},
   "source": [
    "# Check everything"
   ]
  },
  {
   "cell_type": "code",
   "execution_count": null,
   "metadata": {},
   "outputs": [],
   "source": [
    "qa_df = pd.read_csv('qa.csv')\n",
    "\n",
    "def check_diff(row):\n",
    "    final = pd.read_csv(row['final'])\n",
    "    check = pd.read_csv(row['check'])\n",
    "\n",
    "    compare = compair_results(final, check)\n",
    "\n",
    "    #print(row['indicator'])\n",
    "    #print(compare.report())\n",
    "\n",
    "    mismatchs = compare.all_mismatch().count().sum()\n",
    "    return mismatchs\n",
    "\n",
    "qa_df['mismatchs'] = qa_df.apply(check_diff, axis=1)\n",
    "qa_df"
   ]
  }
 ],
 "metadata": {
  "kernelspec": {
   "display_name": "scl-cities",
   "language": "python",
   "name": "python3"
  },
  "language_info": {
   "codemirror_mode": {
    "name": "ipython",
    "version": 3
   },
   "file_extension": ".py",
   "mimetype": "text/x-python",
   "name": "python",
   "nbconvert_exporter": "python",
   "pygments_lexer": "ipython3",
   "version": "3.12.3"
  }
 },
 "nbformat": 4,
 "nbformat_minor": 2
}

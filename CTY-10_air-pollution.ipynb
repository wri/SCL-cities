{
 "cells": [
  {
   "cell_type": "code",
   "execution_count": null,
   "id": "9b13658b",
   "metadata": {},
   "outputs": [],
   "source": [
    "import io, sys, os, datetime, requests, json\n",
    "from collections import defaultdict\n",
    "import numpy as np\n",
    "import pandas as pd\n",
    "import shapely\n",
    "import geopandas as gpd\n",
    "import geemap\n",
    "import ee"
   ]
  },
  {
   "cell_type": "code",
   "execution_count": null,
   "id": "e8cd8892",
   "metadata": {},
   "outputs": [],
   "source": [
    "#ee.Authenticate()\n",
    "ee.Initialize()"
   ]
  },
  {
   "cell_type": "code",
   "execution_count": null,
   "id": "cb3a44ed",
   "metadata": {},
   "outputs": [],
   "source": [
    "with open('popcodes.json', 'r') as popfile:\n",
    "    popcodes2 = json.loads(popfile.read())"
   ]
  },
  {
   "cell_type": "code",
   "execution_count": null,
   "id": "4a08fe64",
   "metadata": {},
   "outputs": [],
   "source": [
    "scale = 100\n",
    "\n",
    "bycountry = {}\n",
    "for year in [2010, 2015, 2020]:\n",
    "    print('\\n\\n{0}\\n'.format(year))\n",
    "    urbext = ee.FeatureCollection('projects/wri-datalab/SCL-Cities/urbanextents__bycountry_{0}'.format(year))\n",
    "    urbext_data = geemap.ee_to_df(urbext)\n",
    "    \n",
    "    worldpop_ic = ee.ImageCollection(\"WorldPop/GP/100m/pop\").filter(ee.Filter.eq('year', year))\n",
    "    \n",
    "    excdays = ee.Image('projects/wri-datalab/SCL-Cities/cams-eac4-exceedancedays_any_v2_{0}'.format(year))\n",
    "    \n",
    "    exc_res = defaultdict(list)\n",
    "    pop_res = defaultdict(list)\n",
    "    excpop_total = []\n",
    "    pop_total = []\n",
    "    countries = []\n",
    "    for i in range(len(urbext_data)):\n",
    "        ua = urbext_data.iloc[i]\n",
    "        ua_f = urbext.filter(ee.Filter.eq('city_ids', str(ua['city_ids'])))\n",
    "        geom = ua_f.geometry()\n",
    "        if ua['country'] in popcodes:\n",
    "            countries.append(ua['country'])\n",
    "            local_excdays = excdays.reduceRegion(ee.Reducer.mean(), geom, scale, maxPixels=1e12).get('b1').getInfo()\n",
    "            ghspop_img = ee.ImageCollection(\"JRC/GHSL/P2023A/GHS_POP\").filter(ee.Filter.calendarRange(year, year, 'year')).select('population_count').first()\n",
    "            localpop = ghspop_img.reduceRegion(ee.Reducer.sum(), geom, scale, maxPixels=1e12).get('population_count').getInfo()\n",
    "            \n",
    "            exc_res[ua['country']].append(local_excdays)\n",
    "            pop_res[ua['country']].append(localpop)\n",
    "            excpop_total.append(local_excdays* localpop)\n",
    "            pop_total.append(localpop)\n",
    "            print(i, end=' ')\n",
    "    \n",
    "    if not 'global' in list(bycountry.keys()):\n",
    "        bycountry['global'] = {}\n",
    "    bycountry['global'] = bycountry['global'] | {\n",
    "        'pop-averaged_exceedance_days_{0}'.format(year): sum(excpop_total) / sum(pop_total)\n",
    "    }\n",
    "    country_list = list(set(exc_res.keys()))\n",
    "    country_list.sort()\n",
    "    for country in country_list:\n",
    "        for country in country_list:\n",
    "            if len(country) > 2:\n",
    "                excpop = 0\n",
    "                for idx in range(len(exc_res[country])):\n",
    "                    excpop += exc_res[country][idx] * pop_res[country][idx]\n",
    "                if not country in list(bycountry.keys()):\n",
    "                    bycountry[country] = {}\n",
    "                bycountry[country] = bycountry[country] | {\n",
    "                    'pop-averaged_exceedance_days_{0}'.format(year): excpop / sum(pop_res[country])\n",
    "                }\n",
    "res_pd = pd.DataFrame.from_dict(bycountry, orient='index')\n",
    "res_pd.to_csv('CTY-10_air-pollutant-exceedance-days_v3.csv')"
   ]
  },
  {
   "cell_type": "code",
   "execution_count": null,
   "id": "af7518e6",
   "metadata": {},
   "outputs": [],
   "source": []
  }
 ],
 "metadata": {
  "kernelspec": {
   "display_name": "Python 3 (ipykernel)",
   "language": "python",
   "name": "python3"
  },
  "language_info": {
   "codemirror_mode": {
    "name": "ipython",
    "version": 3
   },
   "file_extension": ".py",
   "mimetype": "text/x-python",
   "name": "python",
   "nbconvert_exporter": "python",
   "pygments_lexer": "ipython3",
   "version": "3.12.3"
  }
 },
 "nbformat": 4,
 "nbformat_minor": 5
}
